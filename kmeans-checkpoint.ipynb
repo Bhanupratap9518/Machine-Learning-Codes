{
 "cells": [
  {
   "cell_type": "code",
   "execution_count": 4,
   "id": "550654c0-14ab-4cb4-848f-6195656a7c9e",
   "metadata": {},
   "outputs": [
    {
     "name": "stdout",
     "output_type": "stream",
     "text": [
      "         Decimal_Value\n",
      "Cluster               \n",
      "0           158.609670\n",
      "1           101.548793\n",
      "2           132.496970\n",
      "The new data likely belongs to Cluster: 1\n"
     ]
    },
    {
     "name": "stderr",
     "output_type": "stream",
     "text": [
      "C:\\Users\\Bhanupratap\\AppData\\Local\\Programs\\Python\\Python311\\Lib\\site-packages\\sklearn\\cluster\\_kmeans.py:1416: FutureWarning: The default value of `n_init` will change from 10 to 'auto' in 1.4. Set the value of `n_init` explicitly to suppress the warning\n",
      "  super()._check_params_vs_input(X, default_n_init=10)\n"
     ]
    }
   ],
   "source": [
    "import pandas as pd\n",
    "import numpy as np\n",
    "from scipy.stats import skew, kurtosis, entropy\n",
    "\n",
    "# Define the feature extraction function\n",
    "def extract_features(decimal_values):\n",
    "    features = pd.DataFrame()\n",
    "\n",
    "    # Example feature 1: Mean\n",
    "    features['mean'] = decimal_values.rolling(window=5).mean()\n",
    "\n",
    "    # Example feature 2: Standard Deviation\n",
    "    features['std'] = decimal_values.rolling(window=5).std()\n",
    "\n",
    "    # Example feature 3: Skewness\n",
    "    features['skewness'] = decimal_values.rolling(window=5).apply(skew)\n",
    "\n",
    "    # Example feature 4: Kurtosis\n",
    "    features['kurtosis'] = decimal_values.rolling(window=5).apply(kurtosis)\n",
    "\n",
    "    # Example feature 5: Entropy\n",
    "    features['entropy'] = decimal_values.rolling(window=5).apply(lambda x: entropy(np.histogram(x, bins=10)[0]))\n",
    "\n",
    "    # Fill any NaN values that resulted from rolling calculations\n",
    "    features = features.fillna(0)\n",
    "    \n",
    "    return features\n",
    "\n",
    "# Load your dataset\n",
    "df = pd.read_csv('ciphertext.csv')\n",
    "\n",
    "# Extract features from Decimal_Value\n",
    "X = extract_features(df['Decimal_Value'])\n",
    "\n",
    "# Continue with clustering, standardization, etc.\n",
    "from sklearn.preprocessing import StandardScaler\n",
    "from sklearn.cluster import KMeans\n",
    "\n",
    "# Standardize features for better clustering\n",
    "scaler = StandardScaler()\n",
    "X_scaled = scaler.fit_transform(X)\n",
    "\n",
    "# Apply KMeans Clustering\n",
    "kmeans = KMeans(n_clusters=3, random_state=42)  # Assuming 3 possible algorithms\n",
    "df['Cluster'] = kmeans.fit_predict(X_scaled)\n",
    "\n",
    "# Analyzing the clusters\n",
    "print(df.groupby('Cluster').mean())  # Check if clusters have distinguishable features\n",
    "\n",
    "# Predicting the cluster (and thus the algorithm) for a new Decimal_Value\n",
    "new_data = pd.DataFrame({'Decimal_Value': [105]})  # Replace with actual value\n",
    "X_new = extract_features(new_data['Decimal_Value'])\n",
    "X_new_scaled = scaler.transform(X_new)\n",
    "predicted_cluster = kmeans.predict(X_new_scaled)\n",
    "\n",
    "print(f\"The new data likely belongs to Cluster: {predicted_cluster[0]}\")\n",
    "\n"
   ]
  },
  {
   "cell_type": "code",
   "execution_count": 5,
   "id": "567b2ac7-00e1-4a4c-b91c-a099d7ec16d3",
   "metadata": {},
   "outputs": [
    {
     "name": "stdout",
     "output_type": "stream",
     "text": [
      "         Decimal_Value\n",
      "Cluster               \n",
      "0           158.609670\n",
      "1           101.548793\n",
      "2           132.496970\n"
     ]
    }
   ],
   "source": [
    "# Group by clusters and inspect the sample data\n",
    "cluster_summary = df.groupby('Cluster').mean()  # Replace with relevant analysis\n",
    "print(cluster_summary)"
   ]
  },
  {
   "cell_type": "code",
   "execution_count": null,
   "id": "645a009b-d966-46ae-abd7-1483c994c577",
   "metadata": {},
   "outputs": [],
   "source": [
    "import matplotlib.pyplot as plt\n",
    "from sklearn.decomposition import PCA\n",
    "\n",
    "# Reduce the dimensions to 2D using PCA for visualization\n",
    "pca = PCA(n_components=2)\n",
    "X_pca = pca.fit_transform(X_scaled)\n",
    "\n",
    "# Plot the clustered data\n",
    "plt.figure(figsize=(10, 7))\n",
    "plt.scatter(X_pca[:, 0], X_pca[:, 1], c=df['Cluster'], cmap='viridis', marker='o', edgecolor='k', s=100)\n",
    "plt.title(\"Clustering of Ciphertext Data\")\n",
    "plt.xlabel(\"Principal Component 1\")\n",
    "plt.ylabel(\"Principal Component 2\")\n",
    "plt.colorbar(label='Cluster')\n",
    "plt.grid(True)\n",
    "plt.show()\n"
   ]
  }
 ],
 "metadata": {
  "kernelspec": {
   "display_name": "Python 3 (ipykernel)",
   "language": "python",
   "name": "python3"
  },
  "language_info": {
   "codemirror_mode": {
    "name": "ipython",
    "version": 3
   },
   "file_extension": ".py",
   "mimetype": "text/x-python",
   "name": "python",
   "nbconvert_exporter": "python",
   "pygments_lexer": "ipython3",
   "version": "3.11.5"
  }
 },
 "nbformat": 4,
 "nbformat_minor": 5
}
